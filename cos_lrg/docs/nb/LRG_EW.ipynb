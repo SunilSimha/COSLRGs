{
 "cells": [
  {
   "cell_type": "markdown",
   "metadata": {},
   "source": [
    "## LRGs measuring lines"
   ]
  },
  {
   "cell_type": "code",
   "execution_count": null,
   "metadata": {
    "collapsed": true
   },
   "outputs": [],
   "source": [
    "# import\n",
    "import pdb\n",
    "from astropy import constants as const\n",
    "import numpy as np\n",
    "from linetools.isgm.abscomponent import AbsComponent\n",
    "from linetools import utils as ltu\n",
    "from pyigm.igm.igmsightline import IGMSightline\n",
    "\n",
    "import astropy.units as u\n",
    "from linetools.spectralline import AbsLine, SpectralLine\n",
    "from linetools import spectralline as ltsp\n",
    "from linetools.spectra.xspectrum1d import XSpectrum1D\n",
    "import json\n",
    "\n",
    "from pyigm.abssys.lls import LLSSystem"
   ]
  },
  {
   "cell_type": "code",
   "execution_count": null,
   "metadata": {
    "collapsed": true
   },
   "outputs": [],
   "source": [
    "## define:\n",
    "\n",
    "# jfolder = folder with data\n",
    "\n",
    "# jsonfs = array with output json files from pyigm_igmguesses\n",
    "\n",
    "# contfls = array with fits files with continuum spectrum\n",
    "\n"
   ]
  },
  {
   "cell_type": "code",
   "execution_count": null,
   "metadata": {
    "collapsed": true
   },
   "outputs": [],
   "source": [
    "def readcomponents(lrgi):\n",
    "    igm_guess = ltu.loadjson(jfolder+jsonfs[lrgi])\n",
    "    components = []\n",
    "    for key in igm_guess['cmps'].keys():\n",
    "        comp = AbsComponent.from_dict(igm_guess['cmps'][key])#, chk_vel=False)\n",
    "        components.append(comp)\n",
    "    igm_sight = IGMSightline.from_components(components, zem=zems[lrgi])\n",
    "    igm_sys = igm_sight.make_igmsystems()  \n",
    "    print('igm_sys:')\n",
    "    for isys in igm_sys:\n",
    "        print(isys)\n",
    "    return igm_sys\n",
    "\n",
    "def writecomp(ii,lrgi,igm_sys,namecf=''):\n",
    "    print(igm_sys[ii].zabs)\n",
    "    for icomp in igm_sys[ii]._components:\n",
    "            print(icomp)\n",
    "    lrg = igm_sys[ii]\n",
    "    print(lrg.vlim)\n",
    "    if namecf == '':\n",
    "        lrg.write_json(jfolder+jsonfs[lrgi][0:15]+'LRG_'+jsonfs[lrgi][0:5]+'.json')\n",
    "    else:\n",
    "        lrg.write_json(jfolder+jsonfs[lrgi][0:15]+namecf)\n"
   ]
  },
  {
   "cell_type": "code",
   "execution_count": null,
   "metadata": {
    "collapsed": true
   },
   "outputs": [],
   "source": [
    "lrgi = 0\n",
    "igm_sys = readcomponents(lrgi)\n",
    "ii = 0 # choose the #component which corresponds to LRG\n",
    "writecomp(ii,lrgi,igm_sys)\n",
    "\n",
    "### the same for lrgi = 0 - 14"
   ]
  },
  {
   "cell_type": "code",
   "execution_count": null,
   "metadata": {
    "collapsed": true
   },
   "outputs": [],
   "source": [
    "## copy in terminal\n",
    "for i in np.arange(len(contfls)):\n",
    "    print('lt_xabssys '+contfls[i]+' '+jfolder+jsonfs[i][0:15]+'LRG_'+jsonfs[i][0:5]+'.json'+' -o '+jsonfs[i][0:5]+'_xabssys.json')\n",
    "    print(' ')\n"
   ]
  },
  {
   "cell_type": "code",
   "execution_count": null,
   "metadata": {
    "collapsed": true
   },
   "outputs": [],
   "source": [
    "## print EWs\n",
    "\n",
    "#all_ew={}\n",
    "\n",
    "for i in np.arange(15):\n",
    "    print(xabssfiles[i])\n",
    "    lls = LLSSystem.from_json(xabssfiles[i], chk_vel=False)\n",
    "    spec_file = jfolder + contfls[i]\n",
    "    abs_lines = lls.list_of_abslines()\n",
    "    #all_ew[str(i)]={}\n",
    "    \n",
    "    for absline in abs_lines:\n",
    "        # Spectrum\n",
    "        #if spec is None:\n",
    "        #    spec_file = grab_specfile(absline)\n",
    "            # Read\n",
    "        spec = lsio.readspec(spec_file)\n",
    "        #else:  # Check it is the same one\n",
    "        #    new_spec_file = grab_specfile(absline)\n",
    "        #    if new_spec_file != spec_file:\n",
    "        #        raise ValueError(\"Not ready for this..\")\n",
    "        absline.analy['spec'] = spec\n",
    "        # EW\n",
    "        absline.measure_restew(flg=1)  # Boxcar\n",
    "        # AODM\n",
    "        absline.measure_aodm()\n",
    "\n",
    "        print(absline)\n",
    "        print('EW = {:g} with error {:g}'.format(absline.attrib['EW'],absline.attrib['sig_EW']))\n",
    "        print(' ')\n",
    "        #all_ew[str(i)][absline]=absline.attrib['EW']\n",
    "    print('====================================')\n",
    "    print('   ')\n"
   ]
  },
  {
   "cell_type": "code",
   "execution_count": null,
   "metadata": {
    "collapsed": true
   },
   "outputs": [],
   "source": []
  }
 ],
 "metadata": {
  "anaconda-cloud": {},
  "kernelspec": {
   "display_name": "Python [default]",
   "language": "python",
   "name": "python3"
  },
  "language_info": {
   "codemirror_mode": {
    "name": "ipython",
    "version": 3
   },
   "file_extension": ".py",
   "mimetype": "text/x-python",
   "name": "python",
   "nbconvert_exporter": "python",
   "pygments_lexer": "ipython3",
   "version": "3.5.2"
  }
 },
 "nbformat": 4,
 "nbformat_minor": 1
}
